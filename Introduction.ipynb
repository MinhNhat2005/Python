{
 "cells": [
  {
   "cell_type": "code",
   "execution_count": 2,
   "id": "efedb38f-d2b9-4cfb-84e6-847295f2d00b",
   "metadata": {},
   "outputs": [],
   "source": [
    "# Tại sao nên sử dụng NumPy?\n",
    "# Trong Python, chúng ta có các danh sách phục vụ mục đích của mảng, nhưng chúng xử lý chậm.\n",
    "\n",
    "# NumPy nhằm mục đích cung cấp một đối tượng mảng nhanh hơn tới 50 lần so với danh sách Python truyền thống.\n",
    "\n",
    "# Đối tượng mảng trong NumPy được gọi là , Nó cung cấp rất nhiều chức năng hỗ trợ giúp việc làm việc rất dễ dàng.ndarrayndarray\n",
    "\n",
    "# Mảng được sử dụng rất thường xuyên trong khoa học dữ liệu, nơi tốc độ và tài nguyên rất quan trọng."
   ]
  },
  {
   "cell_type": "code",
   "execution_count": null,
   "id": "fe3d6d51-5673-4313-a730-00a8f6d0aa5a",
   "metadata": {},
   "outputs": [],
   "source": []
  }
 ],
 "metadata": {
  "kernelspec": {
   "display_name": "Python [conda env:base] *",
   "language": "python",
   "name": "conda-base-py"
  },
  "language_info": {
   "codemirror_mode": {
    "name": "ipython",
    "version": 3
   },
   "file_extension": ".py",
   "mimetype": "text/x-python",
   "name": "python",
   "nbconvert_exporter": "python",
   "pygments_lexer": "ipython3",
   "version": "3.13.5"
  }
 },
 "nbformat": 4,
 "nbformat_minor": 5
}
